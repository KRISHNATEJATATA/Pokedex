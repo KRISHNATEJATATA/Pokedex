{
 "cells": [
  {
   "cell_type": "code",
   "execution_count": null,
   "metadata": {},
   "outputs": [],
   "source": [
    "! pip install requests\n",
    "! pip install pillow\n",
    "! pip install ipython"
   ]
  },
  {
   "cell_type": "code",
   "execution_count": null,
   "metadata": {},
   "outputs": [],
   "source": [
    "import requests\n",
    "from PIL import Image\n",
    "from IPython.display import display\n",
    "from IPython.display import Image as IPI\n",
    "import urllib.request\n",
    "def abiltites(poke):\n",
    "    print(\"Abilities:\")\n",
    "    for i in poke['abilities']:\n",
    "        print(\"  \",i['ability']['name'])\n",
    "def moves(poke):\n",
    "    print(\"Moves:\")\n",
    "    for i in poke['moves']:\n",
    "        print(\" \",i['move']['name'])\n",
    "        api1=i['move']['url']\n",
    "        res1=requests.get(api1)\n",
    "        poke1=res1.json()\n",
    "        print(\"   |--Power:\",poke1['power'])\n",
    "        print(\"   |--Type:\",poke1['type']['name'])\n",
    "def photos(poke):\n",
    "    print(\"Images:\")\n",
    "    url=str(poke['sprites']['front_default'])\n",
    "    with urllib.request.urlopen(url) as response:\n",
    "        img = Image.open(response)\n",
    "        display(img)\n",
    "    gif=poke['sprites']['other']['showdown']['front_default']\n",
    "    display(IPI(url=gif))\n",
    "\n",
    "pokemon=str(input(\"enter Pokemon name or Id:\"))\n",
    "api='https://pokeapi.co/api/v2/pokemon/'\n",
    "api+=pokemon\n",
    "res=requests.get(api)\n",
    "poke=res.json()\n",
    "print(\"Name:\",poke['name'])\n",
    "print('id : ',poke['id'])\n",
    "abiltites(poke)\n",
    "photos(poke)\n",
    "moves(poke)"
   ]
  }
 ],
 "metadata": {
  "kernelspec": {
   "display_name": "Python 3",
   "language": "python",
   "name": "python3"
  },
  "language_info": {
   "codemirror_mode": {
    "name": "ipython",
    "version": 3
   },
   "file_extension": ".py",
   "mimetype": "text/x-python",
   "name": "python",
   "nbconvert_exporter": "python",
   "pygments_lexer": "ipython3",
   "version": "3.12.3"
  }
 },
 "nbformat": 4,
 "nbformat_minor": 2
}
